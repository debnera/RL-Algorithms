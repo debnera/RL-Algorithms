{
 "cells": [
  {
   "cell_type": "code",
   "execution_count": 22,
   "metadata": {
    "collapsed": true
   },
   "outputs": [],
   "source": [
    "import numpy as np\n",
    "import torch\n",
    "import torch.nn as nn\n",
    "from copy import deepcopy"
   ]
  },
  {
   "cell_type": "code",
   "execution_count": 12,
   "outputs": [
    {
     "name": "stdout",
     "output_type": "stream",
     "text": [
      "1.0\n",
      "1.0\n",
      "1.0\n",
      "1.0\n",
      "1.0\n",
      "1.0\n",
      "1.0\n",
      "1.0\n",
      "1.0\n",
      "1.0\n",
      "1.0\n",
      "1.0\n",
      "1.0\n",
      "0.0\n",
      "0.0\n",
      "0.0\n",
      "0.0\n",
      "0.0\n",
      "0.0\n",
      "0.0\n",
      "0.0\n",
      "0.0\n",
      "0.0\n",
      "0.0\n",
      "0.0\n",
      "0.0\n",
      "0.0\n",
      "0.0\n",
      "0.0\n",
      "0.0\n",
      "0.0\n",
      "0.0\n",
      "0.0\n",
      "0.0\n",
      "0.0\n",
      "0.0\n",
      "0.0\n",
      "0.0\n",
      "0.0\n",
      "0.0\n",
      "0.0\n",
      "0.0\n",
      "0.0\n",
      "0.0\n",
      "0.0\n",
      "0.0\n",
      "0.0\n",
      "0.0\n",
      "0.0\n",
      "0.0\n",
      "0.0\n",
      "0.0\n",
      "0.0\n",
      "0.0\n",
      "0.0\n",
      "0.0\n",
      "0.0\n",
      "0.0\n",
      "0.0\n",
      "0.0\n",
      "0.0\n",
      "0.0\n",
      "0.0\n",
      "0.0\n",
      "0.0\n",
      "0.0\n",
      "0.0\n",
      "0.0\n",
      "0.0\n",
      "0.0\n",
      "0.0\n",
      "0.0\n",
      "0.0\n",
      "0.0\n",
      "0.0\n",
      "0.0\n",
      "0.0\n",
      "0.0\n",
      "0.0\n",
      "0.0\n",
      "0.0\n",
      "0.0\n",
      "0.0\n",
      "0.0\n",
      "0.0\n",
      "0.0\n",
      "0.0\n",
      "0.0\n",
      "0.0\n",
      "0.0\n",
      "0.0\n",
      "0.0\n",
      "0.0\n",
      "0.0\n",
      "0.0\n",
      "0.0\n",
      "0.0\n",
      "0.0\n",
      "0.0\n",
      "0.0\n"
     ]
    },
    {
     "name": "stderr",
     "output_type": "stream",
     "text": [
      "C:\\Users\\Anton\\anaconda3\\envs\\GE-AI_manager\\lib\\site-packages\\gym\\envs\\classic_control\\cartpole.py:163: UserWarning: \u001B[33mWARN: You are calling 'step()' even though this environment has already returned done = True. You should always call 'reset()' once you receive 'done = True' -- any further steps are undefined behavior.\u001B[0m\n",
      "  logger.warn(\n"
     ]
    }
   ],
   "source": [
    "# Env setup\n",
    "import gym\n",
    "env = gym.make('CartPole-v1')\n",
    "env.reset()\n",
    "for _ in range(100):\n",
    "    # env.render()  - Does not work in jupyter?\n",
    "    obs, reward, done, info = env.step(env.action_space.sample()) # take a random action\n",
    "    print(reward)\n",
    "env.close()"
   ],
   "metadata": {
    "collapsed": false,
    "pycharm": {
     "name": "#%%\n"
    }
   }
  },
  {
   "cell_type": "code",
   "execution_count": 19,
   "outputs": [],
   "source": [
    "def eval(cartpole_env):\n",
    "    terminal_steps = []\n",
    "    for i in range(100):\n",
    "        env.reset()\n",
    "        for step in range(1000):\n",
    "            obs, reward, done, info = env.step(env.action_space.sample()) # take a random action\n",
    "            if reward == 0 or step == 99:\n",
    "                terminal_steps.append(step)\n",
    "                break\n",
    "    print(f\"Mean reward: {np.mean(terminal_steps)}\")"
   ],
   "metadata": {
    "collapsed": false,
    "pycharm": {
     "name": "#%%\n"
    }
   }
  },
  {
   "cell_type": "code",
   "execution_count": 20,
   "outputs": [
    {
     "name": "stdout",
     "output_type": "stream",
     "text": [
      "Mean reward: 22.48\n"
     ]
    }
   ],
   "source": [
    "env = gym.make('CartPole-v1')\n",
    "eval(env)\n",
    "env.close()"
   ],
   "metadata": {
    "collapsed": false,
    "pycharm": {
     "name": "#%%\n"
    }
   }
  },
  {
   "cell_type": "code",
   "execution_count": 45,
   "outputs": [],
   "source": [
    "# NN Architecture\n",
    "# - ActorCritic\n",
    "# - Shared weights vs not\n",
    "class ActorCritic(torch.nn.Module):\n",
    "    def __init__(self, input_shape, output_shape, hidden_units, layers):\n",
    "        super().__init__()\n",
    "        self.actor = nn.Sequential(\n",
    "            nn.Linear(input_shape, hidden_units),\n",
    "            nn.ReLU()\n",
    "        )\n",
    "        for i in range(layers):\n",
    "            self.actor.append(nn.Linear(hidden_units, hidden_units))\n",
    "            self.actor.append(nn.ReLU())\n",
    "\n",
    "        self.critic = deepcopy(self.actor)\n",
    "        self.critic.append(nn.Linear(hidden_units, 1))\n",
    "\n",
    "        self.actor.append(nn.Linear(hidden_units, output_shape))\n",
    "        self.actor.append(nn.Tanh())  # Why does actor need Tanh?\n",
    "\n",
    "\n",
    "    def forward(self, x):\n",
    "        values = self.critic(x)\n",
    "        logits = self.actor(x)  # TODO: Do logits always result from Tanh?\n",
    "        return values, logits\n",
    "\n",
    "    def get_action(self, x, action=None):\n",
    "        logits = self.actor(x)\n",
    "\n",
    "        # TODO: Continuous vs discrete actions\n",
    "        # As in, are logits probabilities or distributions?\n",
    "\n",
    "        # Discrete action sampling:\n",
    "        m = torch.distributions.Categorical(logits=logits)\n",
    "        if action == None:\n",
    "            action = m.sample()\n",
    "\n",
    "        return action, m.log_prob(action)\n",
    "\n",
    "    def get_value(self, x):\n",
    "        values = self.critic(x)\n",
    "        return values"
   ],
   "metadata": {
    "collapsed": false,
    "pycharm": {
     "name": "#%%\n"
    }
   }
  },
  {
   "cell_type": "code",
   "execution_count": 53,
   "outputs": [
    {
     "name": "stdout",
     "output_type": "stream",
     "text": [
      "ActorCritic(\n",
      "  (actor): Sequential(\n",
      "    (0): Linear(in_features=8, out_features=128, bias=True)\n",
      "    (1): ReLU()\n",
      "    (2): Linear(in_features=128, out_features=128, bias=True)\n",
      "    (3): ReLU()\n",
      "    (4): Linear(in_features=128, out_features=128, bias=True)\n",
      "    (5): ReLU()\n",
      "    (6): Linear(in_features=128, out_features=2, bias=True)\n",
      "    (7): Tanh()\n",
      "  )\n",
      "  (critic): Sequential(\n",
      "    (0): Linear(in_features=8, out_features=128, bias=True)\n",
      "    (1): ReLU()\n",
      "    (2): Linear(in_features=128, out_features=128, bias=True)\n",
      "    (3): ReLU()\n",
      "    (4): Linear(in_features=128, out_features=128, bias=True)\n",
      "    (5): ReLU()\n",
      "    (6): Linear(in_features=128, out_features=1, bias=True)\n",
      "  )\n",
      ")\n"
     ]
    },
    {
     "data": {
      "text/plain": "(tensor(1), tensor(-0.7129, grad_fn=<SqueezeBackward1>))"
     },
     "execution_count": 53,
     "metadata": {},
     "output_type": "execute_result"
    }
   ],
   "source": [
    "# Test ActorCritic\n",
    "\n",
    "ac = ActorCritic(8, 2, 128, 2)\n",
    "print(ac)\n",
    "ac.get_action(torch.tensor([1,2,3,4,5,6,7,8], dtype=torch.float))"
   ],
   "metadata": {
    "collapsed": false,
    "pycharm": {
     "name": "#%%\n"
    }
   }
  },
  {
   "cell_type": "code",
   "execution_count": 4,
   "outputs": [],
   "source": [
    "# PPO\n",
    "\n",
    "# PPO setup\n",
    "\n",
    "# Collect experiences\n",
    "\n",
    "# Optimize PPO\n"
   ],
   "metadata": {
    "collapsed": false,
    "pycharm": {
     "name": "#%%\n"
    }
   }
  },
  {
   "cell_type": "code",
   "execution_count": 5,
   "outputs": [],
   "source": [
    "\n",
    "# Train\n"
   ],
   "metadata": {
    "collapsed": false,
    "pycharm": {
     "name": "#%%\n"
    }
   }
  }
 ],
 "metadata": {
  "kernelspec": {
   "name": "pycharm-bde0b496",
   "language": "python",
   "display_name": "PyCharm (RL-Algorithms)"
  },
  "language_info": {
   "codemirror_mode": {
    "name": "ipython",
    "version": 2
   },
   "file_extension": ".py",
   "mimetype": "text/x-python",
   "name": "python",
   "nbconvert_exporter": "python",
   "pygments_lexer": "ipython2",
   "version": "2.7.6"
  }
 },
 "nbformat": 4,
 "nbformat_minor": 0
}