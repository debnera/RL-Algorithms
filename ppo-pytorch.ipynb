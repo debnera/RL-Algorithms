{
 "cells": [
  {
   "cell_type": "code",
   "execution_count": 11,
   "metadata": {
    "collapsed": true
   },
   "outputs": [],
   "source": [
    "import numpy as np\n",
    "import torch\n",
    "import torch.nn as nn\n",
    "import torch.optim as optim\n",
    "from copy import deepcopy\n",
    "import gym"
   ]
  },
  {
   "cell_type": "code",
   "execution_count": 12,
   "outputs": [
    {
     "name": "stdout",
     "output_type": "stream",
     "text": [
      "1.0\n",
      "1.0\n",
      "1.0\n",
      "1.0\n",
      "1.0\n",
      "1.0\n",
      "1.0\n",
      "1.0\n",
      "1.0\n",
      "1.0\n"
     ]
    }
   ],
   "source": [
    "# Env setup\n",
    "\n",
    "\n",
    "def test():\n",
    "    env = gym.make(\"CartPole-v1\")\n",
    "    env.reset()\n",
    "    for _ in range(10):\n",
    "        # env.render()  - Does not work in jupyter?\n",
    "        obs, reward, done, info = env.step(env.action_space.sample())  # take a random action\n",
    "        print(reward)\n",
    "    env.close()\n",
    "\n",
    "\n",
    "test()"
   ],
   "metadata": {
    "collapsed": false,
    "pycharm": {
     "name": "#%%\n"
    }
   }
  },
  {
   "cell_type": "code",
   "execution_count": 13,
   "outputs": [],
   "source": [
    "def eval(env, model=None):\n",
    "    terminal_steps = []\n",
    "    max_steps = 1000\n",
    "    iterations = 100\n",
    "    for i in range(iterations):\n",
    "        env.reset()\n",
    "        for step in range(max_steps):\n",
    "            if model:\n",
    "                action = model.get_action()\n",
    "                obs, reward, done, info = env.step(action.cpu().numpy())\n",
    "            else:\n",
    "                obs, reward, done, info = env.step(env.action_space.sample())  # take a random action\n",
    "            if reward == 0 or step == max_steps - 1:\n",
    "                terminal_steps.append(step)\n",
    "                break\n",
    "    print(f\"Mean reward: {np.mean(terminal_steps)}\")"
   ],
   "metadata": {
    "collapsed": false,
    "pycharm": {
     "name": "#%%\n"
    }
   }
  },
  {
   "cell_type": "code",
   "execution_count": 14,
   "outputs": [
    {
     "name": "stdout",
     "output_type": "stream",
     "text": [
      "Mean reward: 21.32\n"
     ]
    },
    {
     "name": "stderr",
     "output_type": "stream",
     "text": [
      "C:\\Users\\Anton\\anaconda3\\envs\\GE-AI_manager\\lib\\site-packages\\gym\\envs\\classic_control\\cartpole.py:163: UserWarning: \u001B[33mWARN: You are calling 'step()' even though this environment has already returned done = True. You should always call 'reset()' once you receive 'done = True' -- any further steps are undefined behavior.\u001B[0m\n",
      "  logger.warn(\n"
     ]
    }
   ],
   "source": [
    "def test_eval():\n",
    "    env = gym.make(\"CartPole-v1\")\n",
    "    eval(env)\n",
    "    env.close()\n",
    "\n",
    "\n",
    "test_eval()"
   ],
   "metadata": {
    "collapsed": false,
    "pycharm": {
     "name": "#%%\n"
    }
   }
  },
  {
   "cell_type": "code",
   "execution_count": 32,
   "outputs": [],
   "source": [
    "# NN Architecture\n",
    "# - ActorCritic\n",
    "# - Shared weights vs not\n",
    "class ActorCritic(torch.nn.Module):\n",
    "    def __init__(self, input_shape, output_shape, hidden_units, layers):\n",
    "        super().__init__()\n",
    "        self.actor = nn.Sequential(nn.Linear(input_shape, hidden_units), nn.ReLU())\n",
    "        for i in range(layers):\n",
    "            self.actor.append(nn.Linear(hidden_units, hidden_units))\n",
    "            self.actor.append(nn.ReLU())\n",
    "\n",
    "        self.critic = deepcopy(self.actor)\n",
    "        self.critic.append(nn.Linear(hidden_units, 1))\n",
    "\n",
    "        self.actor.append(nn.Linear(hidden_units, output_shape))\n",
    "        self.actor.append(nn.Tanh())  # Why does actor need Tanh?\n",
    "\n",
    "    def forward(self, x):\n",
    "        values = self.critic(x)\n",
    "        logits = self.actor(x)  # TODO: Do logits always result from Tanh?\n",
    "        return values, logits\n",
    "\n",
    "    def get_action(self, x, action=None):\n",
    "        logits = self.actor(x)\n",
    "\n",
    "        # TODO: Continuous vs discrete actions\n",
    "        # As in, are logits probabilities or distributions?\n",
    "\n",
    "        # Discrete action sampling:\n",
    "        m = torch.distributions.Categorical(logits=logits)\n",
    "        if action == None:\n",
    "            action = m.sample()\n",
    "\n",
    "        return action, m.log_prob(action)\n",
    "\n",
    "    def get_value(self, x):\n",
    "        values = self.critic(x)\n",
    "        return values"
   ],
   "metadata": {
    "collapsed": false,
    "pycharm": {
     "name": "#%%\n"
    }
   }
  },
  {
   "cell_type": "code",
   "execution_count": 35,
   "outputs": [
    {
     "name": "stdout",
     "output_type": "stream",
     "text": [
      "ActorCritic(\n",
      "  (actor): Sequential(\n",
      "    (0): Linear(in_features=8, out_features=128, bias=True)\n",
      "    (1): ReLU()\n",
      "    (2): Linear(in_features=128, out_features=128, bias=True)\n",
      "    (3): ReLU()\n",
      "    (4): Linear(in_features=128, out_features=128, bias=True)\n",
      "    (5): ReLU()\n",
      "    (6): Linear(in_features=128, out_features=2, bias=True)\n",
      "    (7): Tanh()\n",
      "  )\n",
      "  (critic): Sequential(\n",
      "    (0): Linear(in_features=8, out_features=128, bias=True)\n",
      "    (1): ReLU()\n",
      "    (2): Linear(in_features=128, out_features=128, bias=True)\n",
      "    (3): ReLU()\n",
      "    (4): Linear(in_features=128, out_features=128, bias=True)\n",
      "    (5): ReLU()\n",
      "    (6): Linear(in_features=128, out_features=1, bias=True)\n",
      "  )\n",
      ")\n",
      "(tensor([1]), tensor([-0.8967], grad_fn=<SqueezeBackward1>))\n"
     ]
    }
   ],
   "source": [
    "# Test ActorCritic\n",
    "\n",
    "ac = ActorCritic(8, 2, 128, 2)\n",
    "print(ac)\n",
    "action = ac.get_action(torch.tensor([[1, 2, 3, 4, 5, 6, 7, 8]], dtype=torch.float))\n",
    "print(action)"
   ],
   "metadata": {
    "collapsed": false,
    "pycharm": {
     "name": "#%%\n"
    }
   }
  },
  {
   "cell_type": "code",
   "execution_count": 17,
   "outputs": [],
   "source": [
    "# Taken from cleanrl and ML-Collective\n",
    "config = {\n",
    "    \"description\": \"cleanrl\",\n",
    "    \"seed\": 1,\n",
    "    \"torch_deterministic\": True,\n",
    "    \"device\": \"cpu\",\n",
    "    \"std_init\": 0.05,\n",
    "    \"env_id\": \"MountainCarContinuous-v0\",\n",
    "    \"num_workers\": 8,  # rank (seed) / envs / N\n",
    "    \"num_epochs\": 10,  # K number of\n",
    "    \"num_iterations\": 30,  # number of times we collect a dataset or no. of update loops (300k-2mil total timesteps)\n",
    "    \"max_timesteps\": 2048,  # T\n",
    "    \"epsilon\": 0.2,  # clipping radius\n",
    "    \"lr\": 3e-4,\n",
    "    \"gamma\": 0.99,\n",
    "    \"batch_size\": 512,\n",
    "    \"eval_actors\": 4,  # not used\n",
    "    \"clip_value_loss\": True,\n",
    "    \"gae\": True,\n",
    "    \"gae_lambda\": 0.95,\n",
    "    \"advantage_norm\": True,\n",
    "    \"max_grad_norm\": 0.5,\n",
    "}"
   ],
   "metadata": {
    "collapsed": false,
    "pycharm": {
     "name": "#%%\n"
    }
   }
  },
  {
   "cell_type": "code",
   "execution_count": 25,
   "outputs": [],
   "source": [
    "# PPO\n",
    "class PPO:\n",
    "    def __init__(self, config):\n",
    "        self.config = config\n",
    "        self.env = gym.make(config[\"env_id\"])\n",
    "        self.action_space = self.env.action_space.shape[0]\n",
    "        self.observation_space = self.env.observation_space.shape[0]\n",
    "        self.agent = ActorCritic(self.observation_space, self.action_space, hidden_units=128, layers=2)\n",
    "        self.optimizer = optim.Adam(self.agent.parameters(), lr=config[\"lr\"], eps=1e-5)\n",
    "\n",
    "    def train(self):\n",
    "\n",
    "        # Get config values (TODO: fetch from config)\n",
    "        num_envs = 1\n",
    "        iterations = 2\n",
    "        buffer_size = 100\n",
    "        steps_per_env = 100\n",
    "        device = torch.device(\"cuda\" if torch.cuda.is_available() and config[\"device\"] == \"cuda\" else \"cpu\")\n",
    "\n",
    "        # Set up buffers\n",
    "        obs = torch.zeros((steps_per_env, num_envs, self.observation_space)).to(device)\n",
    "        actions = torch.zeros((steps_per_env, num_envs, self.action_space)).to(device)\n",
    "        logprobs = torch.zeros((steps_per_env, num_envs)).to(device)\n",
    "        rewards = torch.zeros((steps_per_env, num_envs)).to(device)\n",
    "        dones = torch.zeros((steps_per_env, num_envs)).to(device)\n",
    "        values = torch.zeros((steps_per_env, num_envs)).to(device)\n",
    "\n",
    "        env_id = 0  # TODO: Implement multiple envs\n",
    "        for i in range(iterations):\n",
    "            done = torch.tensor(1.0).to(device)  # This is just to silence warning about possibly undefined variable\n",
    "            observation = torch.tensor(self.env.reset()).to(device)  # Get initial observations\n",
    "            for step in range(steps_per_env):\n",
    "                # Collect experience\n",
    "                obs[step, env_id] = observation\n",
    "                with torch.no_grad():\n",
    "                    action, log_prob = self.agent.get_action(observation)\n",
    "                    value = self.agent.get_value(observation)\n",
    "                observation, reward, done, info = self.env.step(action.cpu().numpy())\n",
    "                observation = torch.tensor(observation).to(device)\n",
    "                actions[step, env_id] = action\n",
    "                rewards[step, env_id] = torch.tensor(reward).to(device)\n",
    "                dones[step, env_id] = torch.tensor(done).to(device)\n",
    "                if done:\n",
    "                    # TODO: does env self-reset? Seems to do so on clean-rl\n",
    "                    observation = torch.tensor(self.env.reset()).to(device)\n",
    "\n",
    "            # Calculate advantages (future rewards - critic predictions --> critic loss)\n",
    "            with torch.no_grad():  # TODO: Why no grad here?\n",
    "                advantages = torch.zeros_like(rewards).to(device)\n",
    "                final_done = torch.tensor(done).to(device)\n",
    "                final_value = value\n",
    "                for t in reversed(range(steps_per_env)):\n",
    "                    if t == steps_per_env - 1:\n",
    "                        next_not_done = 1.0 - final_done\n",
    "                        next_value = final_value\n",
    "                    else:\n",
    "                        next_not_done = 1.0 - dones[t + 1, env_id]\n",
    "                        next_value = values[t + 1, env_id]\n",
    "                    advantages[t, env_id] = rewards[t] + self.config[\"gamma\"] * next_not_done * next_value\n",
    "                advantages = advantages - values  # Critic loss\n",
    "\n",
    "            # Flatten batches (get rid of env-index) - after calculating advantages, the order no longer matters\n",
    "            b_obs = obs.reshape((-1,) + self.observation_space)\n",
    "            b_log_probs = logprobs.reshape(-1)\n",
    "            b_actions = actions.reshape((-1,) + self.action_space)\n",
    "            b_advantages = advantages.reshape(-1)\n",
    "            # b_returns = returns.reshape(-1)\n",
    "            b_values = values.reshape(-1)\n",
    "\n",
    "            # Optimize\n",
    "            b_indices = np.arange(config[\"batch_size\"])\n",
    "            for epoch in config[\"num_epoch\"]:\n",
    "                np.random.shuffle(b_indices)\n",
    "                batch_size = self.config[\"batch_size\"]\n",
    "                for start in range(0, steps_per_env, batch_size):\n",
    "                    # Get batch from indices\n",
    "                    end = start + batch_size\n",
    "                    indices = b_indices[start:end]\n",
    "\n",
    "                    # Get new predictions for current batch\n",
    "                    # - calculate \"ratio\" between new and old predictions\n",
    "                    # - TODO: Where is this in PPO paper? (ANS: original TRPO surrogate objective)\n",
    "                    _, new_log_probs = self.agent.get_action(b_obs[indices], b_actions[indices])\n",
    "                    new_values = self.agent.get_value(b_obs[indices])\n",
    "                    ratio = torch.exp(new_log_probs - b_log_probs[indices])\n",
    "                    print(\"succ\")\n",
    "                    return\n",
    "\n",
    "                    #\n",
    "                    # 3 Clipped Surrogate Objective\n",
    "                    # TRPO uses the following:\n",
    "                    # - L_CPI = Et [ratio] * Advantage_t\n",
    "                    #       - Where ratio = pi_new(a|t) / pi_old(a|t)\n",
    "                    #\n",
    "                    # PPO paper proposes a slight modification (adds clipping):\n",
    "                    # - L_CLIP = Et [min(ratio * advantage_t, clip(ratio) * advantage_t)]\n",
    "\n",
    "                    # 4 Adaptive KL penalty?\n",
    "                    # - PPO paper: \"Alternative or addition to Clipped Surrogate Objective\"\n",
    "\n",
    "                    # Clean-RL uses \"Monte-Carlo Approximation of KL Divergence\"\n",
    "                    # - taken from http://joschu.net/blog/kl-approx.html\n",
    "\n",
    "                    pass\n",
    "\n",
    "            # Evaluate maybe?\n",
    "        # Final evaluate maybe?\n",
    "        env_id.close()"
   ],
   "metadata": {
    "collapsed": false,
    "pycharm": {
     "name": "#%%\n"
    }
   }
  },
  {
   "cell_type": "code",
   "execution_count": 36,
   "outputs": [
    {
     "name": "stderr",
     "output_type": "stream",
     "text": [
      "<string>:1: UserWarning: To copy construct from a tensor, it is recommended to use sourceTensor.clone().detach() or sourceTensor.clone().detach().requires_grad_(True), rather than torch.tensor(sourceTensor).\n"
     ]
    },
    {
     "ename": "KeyboardInterrupt",
     "evalue": "",
     "output_type": "error",
     "traceback": [
      "\u001B[1;31m---------------------------------------------------------------------------\u001B[0m",
      "\u001B[1;31mKeyboardInterrupt\u001B[0m                         Traceback (most recent call last)",
      "Input \u001B[1;32mIn [36]\u001B[0m, in \u001B[0;36m<cell line: 4>\u001B[1;34m()\u001B[0m\n\u001B[0;32m      1\u001B[0m \u001B[38;5;66;03m# pydev_debug_cell\u001B[39;00m\n\u001B[0;32m      3\u001B[0m ppo \u001B[38;5;241m=\u001B[39m PPO(config)\n\u001B[1;32m----> 4\u001B[0m \u001B[43mppo\u001B[49m\u001B[38;5;241;43m.\u001B[39;49m\u001B[43mtrain\u001B[49m\u001B[43m(\u001B[49m\u001B[43m)\u001B[49m\n",
      "Input \u001B[1;32mIn [25]\u001B[0m, in \u001B[0;36mPPO.train\u001B[1;34m(self)\u001B[0m\n\u001B[0;32m     37\u001B[0m \u001B[38;5;28;01mwith\u001B[39;00m torch\u001B[38;5;241m.\u001B[39mno_grad():\n\u001B[0;32m     38\u001B[0m     action, log_prob \u001B[38;5;241m=\u001B[39m \u001B[38;5;28mself\u001B[39m\u001B[38;5;241m.\u001B[39magent\u001B[38;5;241m.\u001B[39mget_action(observation)\n\u001B[1;32m---> 39\u001B[0m     value \u001B[38;5;241m=\u001B[39m \u001B[38;5;28;43mself\u001B[39;49m\u001B[38;5;241m.\u001B[39magent\u001B[38;5;241m.\u001B[39mget_value(observation)\n\u001B[0;32m     40\u001B[0m observation, reward, done, info \u001B[38;5;241m=\u001B[39m \u001B[38;5;28mself\u001B[39m\u001B[38;5;241m.\u001B[39menv\u001B[38;5;241m.\u001B[39mstep(action\u001B[38;5;241m.\u001B[39mcpu()\u001B[38;5;241m.\u001B[39mnumpy())\n\u001B[0;32m     41\u001B[0m observation \u001B[38;5;241m=\u001B[39m torch\u001B[38;5;241m.\u001B[39mtensor(observation)\u001B[38;5;241m.\u001B[39mto(device)\n",
      "Input \u001B[1;32mIn [25]\u001B[0m, in \u001B[0;36mPPO.train\u001B[1;34m(self)\u001B[0m\n\u001B[0;32m     37\u001B[0m \u001B[38;5;28;01mwith\u001B[39;00m torch\u001B[38;5;241m.\u001B[39mno_grad():\n\u001B[0;32m     38\u001B[0m     action, log_prob \u001B[38;5;241m=\u001B[39m \u001B[38;5;28mself\u001B[39m\u001B[38;5;241m.\u001B[39magent\u001B[38;5;241m.\u001B[39mget_action(observation)\n\u001B[1;32m---> 39\u001B[0m     value \u001B[38;5;241m=\u001B[39m \u001B[38;5;28;43mself\u001B[39;49m\u001B[38;5;241m.\u001B[39magent\u001B[38;5;241m.\u001B[39mget_value(observation)\n\u001B[0;32m     40\u001B[0m observation, reward, done, info \u001B[38;5;241m=\u001B[39m \u001B[38;5;28mself\u001B[39m\u001B[38;5;241m.\u001B[39menv\u001B[38;5;241m.\u001B[39mstep(action\u001B[38;5;241m.\u001B[39mcpu()\u001B[38;5;241m.\u001B[39mnumpy())\n\u001B[0;32m     41\u001B[0m observation \u001B[38;5;241m=\u001B[39m torch\u001B[38;5;241m.\u001B[39mtensor(observation)\u001B[38;5;241m.\u001B[39mto(device)\n",
      "File \u001B[1;32m_pydevd_bundle\\pydevd_cython_win32_39_64.pyx:1179\u001B[0m, in \u001B[0;36m_pydevd_bundle.pydevd_cython_win32_39_64.SafeCallWrapper.__call__\u001B[1;34m()\u001B[0m\n",
      "File \u001B[1;32m_pydevd_bundle\\pydevd_cython_win32_39_64.pyx:620\u001B[0m, in \u001B[0;36m_pydevd_bundle.pydevd_cython_win32_39_64.PyDBFrame.trace_dispatch\u001B[1;34m()\u001B[0m\n",
      "File \u001B[1;32m_pydevd_bundle\\pydevd_cython_win32_39_64.pyx:929\u001B[0m, in \u001B[0;36m_pydevd_bundle.pydevd_cython_win32_39_64.PyDBFrame.trace_dispatch\u001B[1;34m()\u001B[0m\n",
      "File \u001B[1;32m_pydevd_bundle\\pydevd_cython_win32_39_64.pyx:920\u001B[0m, in \u001B[0;36m_pydevd_bundle.pydevd_cython_win32_39_64.PyDBFrame.trace_dispatch\u001B[1;34m()\u001B[0m\n",
      "File \u001B[1;32m_pydevd_bundle\\pydevd_cython_win32_39_64.pyx:317\u001B[0m, in \u001B[0;36m_pydevd_bundle.pydevd_cython_win32_39_64.PyDBFrame.do_wait_suspend\u001B[1;34m()\u001B[0m\n",
      "File \u001B[1;32m~\\AppData\\Roaming\\JetBrains\\IntelliJIdea2021.2\\plugins\\python\\helpers\\pydev\\pydevd.py:1147\u001B[0m, in \u001B[0;36mPyDB.do_wait_suspend\u001B[1;34m(self, thread, frame, event, arg, send_suspend_message, is_unhandled_exception)\u001B[0m\n\u001B[0;32m   1144\u001B[0m         from_this_thread\u001B[38;5;241m.\u001B[39mappend(frame_id)\n\u001B[0;32m   1146\u001B[0m \u001B[38;5;28;01mwith\u001B[39;00m \u001B[38;5;28mself\u001B[39m\u001B[38;5;241m.\u001B[39m_threads_suspended_single_notification\u001B[38;5;241m.\u001B[39mnotify_thread_suspended(thread_id, stop_reason):\n\u001B[1;32m-> 1147\u001B[0m     \u001B[38;5;28;43mself\u001B[39;49m\u001B[38;5;241;43m.\u001B[39;49m\u001B[43m_do_wait_suspend\u001B[49m\u001B[43m(\u001B[49m\u001B[43mthread\u001B[49m\u001B[43m,\u001B[49m\u001B[43m \u001B[49m\u001B[43mframe\u001B[49m\u001B[43m,\u001B[49m\u001B[43m \u001B[49m\u001B[43mevent\u001B[49m\u001B[43m,\u001B[49m\u001B[43m \u001B[49m\u001B[43marg\u001B[49m\u001B[43m,\u001B[49m\u001B[43m \u001B[49m\u001B[43msuspend_type\u001B[49m\u001B[43m,\u001B[49m\u001B[43m \u001B[49m\u001B[43mfrom_this_thread\u001B[49m\u001B[43m)\u001B[49m\n",
      "File \u001B[1;32m~\\AppData\\Roaming\\JetBrains\\IntelliJIdea2021.2\\plugins\\python\\helpers\\pydev\\pydevd.py:1162\u001B[0m, in \u001B[0;36mPyDB._do_wait_suspend\u001B[1;34m(self, thread, frame, event, arg, suspend_type, from_this_thread)\u001B[0m\n\u001B[0;32m   1159\u001B[0m             \u001B[38;5;28mself\u001B[39m\u001B[38;5;241m.\u001B[39m_call_mpl_hook()\n\u001B[0;32m   1161\u001B[0m         \u001B[38;5;28mself\u001B[39m\u001B[38;5;241m.\u001B[39mprocess_internal_commands()\n\u001B[1;32m-> 1162\u001B[0m         \u001B[43mtime\u001B[49m\u001B[38;5;241;43m.\u001B[39;49m\u001B[43msleep\u001B[49m\u001B[43m(\u001B[49m\u001B[38;5;241;43m0.01\u001B[39;49m\u001B[43m)\u001B[49m\n\u001B[0;32m   1164\u001B[0m \u001B[38;5;28mself\u001B[39m\u001B[38;5;241m.\u001B[39mcancel_async_evaluation(get_current_thread_id(thread), \u001B[38;5;28mstr\u001B[39m(\u001B[38;5;28mid\u001B[39m(frame)))\n\u001B[0;32m   1166\u001B[0m \u001B[38;5;66;03m# process any stepping instructions\u001B[39;00m\n",
      "\u001B[1;31mKeyboardInterrupt\u001B[0m: "
     ]
    }
   ],
   "source": [
    "ppo = PPO(config)\n",
    "ppo.train()"
   ],
   "metadata": {
    "collapsed": false,
    "pycharm": {
     "name": "#%%\n"
    }
   }
  },
  {
   "cell_type": "code",
   "execution_count": null,
   "outputs": [],
   "source": [
    "# Train"
   ],
   "metadata": {
    "collapsed": false,
    "pycharm": {
     "name": "#%%\n"
    }
   }
  }
 ],
 "metadata": {
  "kernelspec": {
   "name": "pycharm-bde0b496",
   "language": "python",
   "display_name": "PyCharm (RL-Algorithms)"
  },
  "language_info": {
   "codemirror_mode": {
    "name": "ipython",
    "version": 2
   },
   "file_extension": ".py",
   "mimetype": "text/x-python",
   "name": "python",
   "nbconvert_exporter": "python",
   "pygments_lexer": "ipython2",
   "version": "2.7.6"
  }
 },
 "nbformat": 4,
 "nbformat_minor": 0
}