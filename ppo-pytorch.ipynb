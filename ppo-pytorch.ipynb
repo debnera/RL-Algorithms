{
 "cells": [
  {
   "cell_type": "code",
   "execution_count": 22,
   "metadata": {
    "collapsed": true
   },
   "outputs": [],
   "source": [
    "import numpy as np\n",
    "import torch\n",
    "import torch.nn as nn\n",
    "import torch.optim as optim\n",
    "from copy import deepcopy\n",
    "import gym"
   ]
  },
  {
   "cell_type": "code",
   "execution_count": 12,
   "outputs": [
    {
     "name": "stdout",
     "output_type": "stream",
     "text": [
      "1.0\n",
      "1.0\n",
      "1.0\n",
      "1.0\n",
      "1.0\n",
      "1.0\n",
      "1.0\n",
      "1.0\n",
      "1.0\n",
      "1.0\n",
      "1.0\n",
      "1.0\n",
      "1.0\n",
      "0.0\n",
      "0.0\n",
      "0.0\n",
      "0.0\n",
      "0.0\n",
      "0.0\n",
      "0.0\n",
      "0.0\n",
      "0.0\n",
      "0.0\n",
      "0.0\n",
      "0.0\n",
      "0.0\n",
      "0.0\n",
      "0.0\n",
      "0.0\n",
      "0.0\n",
      "0.0\n",
      "0.0\n",
      "0.0\n",
      "0.0\n",
      "0.0\n",
      "0.0\n",
      "0.0\n",
      "0.0\n",
      "0.0\n",
      "0.0\n",
      "0.0\n",
      "0.0\n",
      "0.0\n",
      "0.0\n",
      "0.0\n",
      "0.0\n",
      "0.0\n",
      "0.0\n",
      "0.0\n",
      "0.0\n",
      "0.0\n",
      "0.0\n",
      "0.0\n",
      "0.0\n",
      "0.0\n",
      "0.0\n",
      "0.0\n",
      "0.0\n",
      "0.0\n",
      "0.0\n",
      "0.0\n",
      "0.0\n",
      "0.0\n",
      "0.0\n",
      "0.0\n",
      "0.0\n",
      "0.0\n",
      "0.0\n",
      "0.0\n",
      "0.0\n",
      "0.0\n",
      "0.0\n",
      "0.0\n",
      "0.0\n",
      "0.0\n",
      "0.0\n",
      "0.0\n",
      "0.0\n",
      "0.0\n",
      "0.0\n",
      "0.0\n",
      "0.0\n",
      "0.0\n",
      "0.0\n",
      "0.0\n",
      "0.0\n",
      "0.0\n",
      "0.0\n",
      "0.0\n",
      "0.0\n",
      "0.0\n",
      "0.0\n",
      "0.0\n",
      "0.0\n",
      "0.0\n",
      "0.0\n",
      "0.0\n",
      "0.0\n",
      "0.0\n",
      "0.0\n"
     ]
    },
    {
     "name": "stderr",
     "output_type": "stream",
     "text": [
      "C:\\Users\\Anton\\anaconda3\\envs\\GE-AI_manager\\lib\\site-packages\\gym\\envs\\classic_control\\cartpole.py:163: UserWarning: \u001B[33mWARN: You are calling 'step()' even though this environment has already returned done = True. You should always call 'reset()' once you receive 'done = True' -- any further steps are undefined behavior.\u001B[0m\n",
      "  logger.warn(\n"
     ]
    }
   ],
   "source": [
    "# Env setup\n",
    "\n",
    "def test():\n",
    "    env = gym.make('CartPole-v1')\n",
    "    env.reset()\n",
    "    for _ in range(100):\n",
    "        # env.render()  - Does not work in jupyter?\n",
    "        obs, reward, done, info = env.step(env.action_space.sample()) # take a random action\n",
    "        print(reward)\n",
    "    env.close()\n",
    "test()"
   ],
   "metadata": {
    "collapsed": false,
    "pycharm": {
     "name": "#%%\n"
    }
   }
  },
  {
   "cell_type": "code",
   "execution_count": 19,
   "outputs": [],
   "source": [
    "def eval(env, model=None):\n",
    "    terminal_steps = []\n",
    "    max_steps = 1000\n",
    "    iterations = 100\n",
    "    for i in range(iterations):\n",
    "        env.reset()\n",
    "        for step in range(max_steps):\n",
    "            if model:\n",
    "                action = model.get_action()\n",
    "                obs, reward, done, info = env.step(action.cpu().numpy())\n",
    "            else:\n",
    "                obs, reward, done, info = env.step(env.action_space.sample()) # take a random action\n",
    "            if reward == 0 or step == max_steps - 1:\n",
    "                terminal_steps.append(step)\n",
    "                break\n",
    "    print(f\"Mean reward: {np.mean(terminal_steps)}\")"
   ],
   "metadata": {
    "collapsed": false,
    "pycharm": {
     "name": "#%%\n"
    }
   }
  },
  {
   "cell_type": "code",
   "execution_count": 20,
   "outputs": [
    {
     "name": "stdout",
     "output_type": "stream",
     "text": [
      "Mean reward: 22.48\n"
     ]
    }
   ],
   "source": [
    "def test_eval():\n",
    "    env = gym.make('CartPole-v1')\n",
    "    eval(env)\n",
    "    env.close()\n",
    "test_eval()"
   ],
   "metadata": {
    "collapsed": false,
    "pycharm": {
     "name": "#%%\n"
    }
   }
  },
  {
   "cell_type": "code",
   "execution_count": 45,
   "outputs": [],
   "source": [
    "# NN Architecture\n",
    "# - ActorCritic\n",
    "# - Shared weights vs not\n",
    "class ActorCritic(torch.nn.Module):\n",
    "    def __init__(self, input_shape, output_shape, hidden_units, layers):\n",
    "        super().__init__()\n",
    "        self.actor = nn.Sequential(\n",
    "            nn.Linear(input_shape, hidden_units),\n",
    "            nn.ReLU()\n",
    "        )\n",
    "        for i in range(layers):\n",
    "            self.actor.append(nn.Linear(hidden_units, hidden_units))\n",
    "            self.actor.append(nn.ReLU())\n",
    "\n",
    "        self.critic = deepcopy(self.actor)\n",
    "        self.critic.append(nn.Linear(hidden_units, 1))\n",
    "\n",
    "        self.actor.append(nn.Linear(hidden_units, output_shape))\n",
    "        self.actor.append(nn.Tanh())  # Why does actor need Tanh?\n",
    "\n",
    "\n",
    "    def forward(self, x):\n",
    "        values = self.critic(x)\n",
    "        logits = self.actor(x)  # TODO: Do logits always result from Tanh?\n",
    "        return values, logits\n",
    "\n",
    "    def get_action(self, x, action=None):\n",
    "        logits = self.actor(x)\n",
    "\n",
    "        # TODO: Continuous vs discrete actions\n",
    "        # As in, are logits probabilities or distributions?\n",
    "\n",
    "        # Discrete action sampling:\n",
    "        m = torch.distributions.Categorical(logits=logits)\n",
    "        if action == None:\n",
    "            action = m.sample()\n",
    "\n",
    "        return action, m.log_prob(action)\n",
    "\n",
    "    def get_value(self, x):\n",
    "        values = self.critic(x)\n",
    "        return values"
   ],
   "metadata": {
    "collapsed": false,
    "pycharm": {
     "name": "#%%\n"
    }
   }
  },
  {
   "cell_type": "code",
   "execution_count": 53,
   "outputs": [
    {
     "name": "stdout",
     "output_type": "stream",
     "text": [
      "ActorCritic(\n",
      "  (actor): Sequential(\n",
      "    (0): Linear(in_features=8, out_features=128, bias=True)\n",
      "    (1): ReLU()\n",
      "    (2): Linear(in_features=128, out_features=128, bias=True)\n",
      "    (3): ReLU()\n",
      "    (4): Linear(in_features=128, out_features=128, bias=True)\n",
      "    (5): ReLU()\n",
      "    (6): Linear(in_features=128, out_features=2, bias=True)\n",
      "    (7): Tanh()\n",
      "  )\n",
      "  (critic): Sequential(\n",
      "    (0): Linear(in_features=8, out_features=128, bias=True)\n",
      "    (1): ReLU()\n",
      "    (2): Linear(in_features=128, out_features=128, bias=True)\n",
      "    (3): ReLU()\n",
      "    (4): Linear(in_features=128, out_features=128, bias=True)\n",
      "    (5): ReLU()\n",
      "    (6): Linear(in_features=128, out_features=1, bias=True)\n",
      "  )\n",
      ")\n"
     ]
    },
    {
     "data": {
      "text/plain": "(tensor(1), tensor(-0.7129, grad_fn=<SqueezeBackward1>))"
     },
     "execution_count": 53,
     "metadata": {},
     "output_type": "execute_result"
    }
   ],
   "source": [
    "# Test ActorCritic\n",
    "\n",
    "ac = ActorCritic(8, 2, 128, 2)\n",
    "print(ac)\n",
    "ac.get_action(torch.tensor([1,2,3,4,5,6,7,8], dtype=torch.float))"
   ],
   "metadata": {
    "collapsed": false,
    "pycharm": {
     "name": "#%%\n"
    }
   }
  },
  {
   "cell_type": "code",
   "execution_count": null,
   "outputs": [],
   "source": [
    "# Taken from cleanrl and ML-Collective\n",
    "config = {\n",
    "    'description': 'cleanrl',\n",
    "    'seed': 1,\n",
    "    'torch_deterministic': True,\n",
    "    'cuda': True,\n",
    "    'std_init': 0.05,\n",
    "    'env_id': 'LunarLanderContinuous-v2',\n",
    "    'num_workers': 8,  # rank (seed) / envs / N\n",
    "    'num_epochs': 10, # K number of\n",
    "    'num_iterations': 30, # number of times we collect a dataset or no. of update loops (300k-2mil total timesteps)\n",
    "    'max_timesteps': 2048, # T\n",
    "    'epsilon': 0.2,  # clipping radius\n",
    "    'lr': 3e-4,\n",
    "    'gamma' : 0.99,\n",
    "    'batch_size' : 512,\n",
    "    'eval_actors': 4,  # not used\n",
    "    'clip_value_loss': True,\n",
    "    'gae': True,\n",
    "    'gae_lambda': 0.95,\n",
    "    'advantage_norm': True,\n",
    "    'max_grad_norm': 0.5\n",
    "}"
   ],
   "metadata": {
    "collapsed": false,
    "pycharm": {
     "name": "#%%\n"
    }
   }
  },
  {
   "cell_type": "code",
   "execution_count": 4,
   "outputs": [],
   "source": [
    "# PPO\n",
    "class PPO():\n",
    "\n",
    "    def __init__(self, config):\n",
    "        self.config = config\n",
    "        self.env = gym.make('CartPole-v1')\n",
    "        self.action_space = self.env.action_space\n",
    "        self.observation_space = self.env.observation_space\n",
    "        self.agent = ActorCritic(self.observation_space, self.action_space, hidden_units=128, layers=2)\n",
    "        self.optimizer = optim.Adam(self.agent.parameters(), lr=config[\"lr\"], eps=1e-5)\n",
    "\n",
    "    def train(self):\n",
    "\n",
    "        # Get config values (TODO: fetch from config)\n",
    "        num_envs = 1\n",
    "        iterations = 2\n",
    "        buffer_size = 100\n",
    "        steps_per_env = 100\n",
    "        device = torch.device(\"cuda\" if torch.cuda.is_available() and config[\"device\"] == \"cuda\" else \"cpu\")\n",
    "\n",
    "        # Set up buffers\n",
    "        obs = torch.zeros((steps_per_env, num_envs) + self.observation_space).to(device)\n",
    "        actions = torch.zeros((steps_per_env, num_envs) + self.action_space.shape).to(device)\n",
    "        logprobs = torch.zeros((steps_per_env, num_envs)).to(device)\n",
    "        rewards = torch.zeros((steps_per_env, num_envs)).to(device)\n",
    "        dones = torch.zeros((steps_per_env, num_envs)).to(device)\n",
    "        values = torch.zeros((steps_per_env, num_envs)).to(device)\n",
    "\n",
    "        env = 0  # TODO: Implement multiple envs\n",
    "        for i in range(iterations):\n",
    "            done = torch.tensor(1.0).to(device)  # This is just to silence warning about possibly undefined variable\n",
    "            observation = torch.tensor(env.reset()).to(device)  # Get initial observations\n",
    "            for step in range(steps_per_env):\n",
    "                # Collect experience\n",
    "                obs[step, env] = observation\n",
    "                with torch.no_grad():\n",
    "                    action = self.agent.get_action(observation)\n",
    "                    value = self.agent.get_value(observation)\n",
    "                observation, reward, done, info = env.step(action.cpu().numpy())\n",
    "                observation = torch.tensor(observation).to(device)\n",
    "                actions[step, env] = action\n",
    "                rewards[step, env] = torch.tensor(reward).to(device)\n",
    "                dones[step, env] = torch.tensor(done).to(device)\n",
    "                if done:\n",
    "                    # TODO: does env self-reset? Seems to do so on clean-rl\n",
    "                    observation = torch.tensor(env.reset()).to(device)\n",
    "\n",
    "            # Calculate advantages (future rewards - critic predictions --> critic loss)\n",
    "            with torch.no_grad():  # TODO: Why no grad here?\n",
    "                advantages = torch.zeros_like(rewards).to(device)\n",
    "                final_done = torch.tensor(done).to(device)\n",
    "                final_value = value\n",
    "                for t in reversed(range(steps_per_env)):\n",
    "                    if t == steps_per_env - 1:\n",
    "                        next_not_done = 1.0 - final_done\n",
    "                        next_value = final_value\n",
    "                    else:\n",
    "                        next_not_done = 1.0 - dones[t+1, env]\n",
    "                        next_value = values[t+1, env]\n",
    "                    advantages[t, env] = rewards[t] + self.config[\"gamma\"] * next_not_done * next_value\n",
    "                advantages = advantages - values  # Critic loss\n",
    "\n",
    "            # Flatten batches (get rid of env-index) - after calculating advantages, the order no longer matters\n",
    "            b_obs = obs.reshape((-1,) + self.observation_space)\n",
    "            b_logprobs = logprobs.reshape(-1)\n",
    "            b_actions = actions.reshape((-1,) + self.action_space)\n",
    "            b_advantages = advantages.reshape(-1)\n",
    "            # b_returns = returns.reshape(-1)\n",
    "            b_values = values.reshape(-1)\n",
    "\n",
    "            # Optimize\n",
    "            b_indices = np.arange(config[\"batch_size\"])\n",
    "            for epoch in config[\"num_epoch\"]:\n",
    "                np.random.shuffle(b_indices)\n",
    "\n",
    "            # Evaluate maybe?\n",
    "        # Final evaluate maybe?\n",
    "        env.close()\n"
   ],
   "metadata": {
    "collapsed": false,
    "pycharm": {
     "name": "#%%\n"
    }
   }
  },
  {
   "cell_type": "code",
   "execution_count": 5,
   "outputs": [],
   "source": [
    "\n",
    "# Train\n",
    "\n",
    "\n"
   ],
   "metadata": {
    "collapsed": false,
    "pycharm": {
     "name": "#%%\n"
    }
   }
  }
 ],
 "metadata": {
  "kernelspec": {
   "name": "pycharm-bde0b496",
   "language": "python",
   "display_name": "PyCharm (RL-Algorithms)"
  },
  "language_info": {
   "codemirror_mode": {
    "name": "ipython",
    "version": 2
   },
   "file_extension": ".py",
   "mimetype": "text/x-python",
   "name": "python",
   "nbconvert_exporter": "python",
   "pygments_lexer": "ipython2",
   "version": "2.7.6"
  }
 },
 "nbformat": 4,
 "nbformat_minor": 0
}